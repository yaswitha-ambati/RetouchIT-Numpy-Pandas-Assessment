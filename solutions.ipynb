{
 "cells": [
  {
   "cell_type": "markdown",
   "id": "ac06fb29-f08a-4375-97e6-84645749d7b9",
   "metadata": {},
   "source": [
    "1. What is the output of the following code?\n",
    "\n",
    "a = np.array([1, 2, 3])\n",
    "b = np.array([[1], [2], [3]])\n",
    "print(a + b)\n",
    "\n",
    "Ans: A"
   ]
  },
  {
   "cell_type": "markdown",
   "id": "a49ac115-36f5-4193-ba41-e3f2b8f70d81",
   "metadata": {},
   "source": [
    "2. Given arr = np.arange(12).reshape(3, 4), which code extracts the subarray [[5, 6], [9, 10]]?\n",
    "Ans: A"
   ]
  },
  {
   "cell_type": "markdown",
   "id": "be0b9540-6142-4fd9-90bc-faa9b719187d",
   "metadata": {},
   "source": [
    "3. Replace all negative values in arr = np.array([-2, -1, 0, 1, 2]) with 0 using a single vectorized operation."
   ]
  },
  {
   "cell_type": "code",
   "execution_count": 1,
   "id": "5aa4400b-92bb-4858-9428-aadd0e9b5596",
   "metadata": {},
   "outputs": [
    {
     "name": "stdout",
     "output_type": "stream",
     "text": [
      "[0 0 0 1 2]\n"
     ]
    }
   ],
   "source": [
    "import numpy as np \n",
    "arr = np.array([-2, -1, 0, 1, 2])\n",
    "arr = np.where(arr<0, 0, arr)\n",
    "print(arr)"
   ]
  },
  {
   "cell_type": "markdown",
   "id": "5e9f417f-7a84-4f05-aecc-913dff152e6d",
   "metadata": {},
   "source": [
    "4. Aggregation & NaN Handling\n",
    "Compute the row-wise mean of matrix below, ignoring NaN values:\n",
    "\n",
    "matrix = np.array([[1, np.nan, 3], [4, 5, np.nan]])"
   ]
  },
  {
   "cell_type": "code",
   "execution_count": 5,
   "id": "e36dc56d-600a-4473-a88a-de3879f90247",
   "metadata": {},
   "outputs": [
    {
     "name": "stdout",
     "output_type": "stream",
     "text": [
      "[2.  4.5]\n"
     ]
    }
   ],
   "source": [
    "import numpy as np\n",
    "matrix = np.array([[1, np.nan, 3], [4, 5, np.nan]])\n",
    "row_mean = np.nanmean(matrix, axis=1)\n",
    "print(row_mean)\n"
   ]
  },
  {
   "cell_type": "markdown",
   "id": "6f46c955-effb-4555-a80c-f5033234e03b",
   "metadata": {},
   "source": [
    "5. What does this code return?\n",
    "\n",
    "data = np.array([10, 20, 30, 40])\n",
    "idx = np.array([True, False, True, False])\n",
    "print(data[idx])\n",
    "\n",
    "Ans: A"
   ]
  },
  {
   "cell_type": "markdown",
   "id": "9b6660cc-80f0-4a75-8d15-65954fbef86e",
   "metadata": {},
   "source": [
    "6. DataFrame Creation & Basics\n",
    "Create a DataFrame df from this dictionary, ensuring the index is [100, 101, 102]:\n",
    "\n",
    "data = {'Name': ['Alice', 'Bob', 'Charlie'], 'Age': [25, 30, 35]}"
   ]
  },
  {
   "cell_type": "code",
   "execution_count": 7,
   "id": "b462abc4-b226-48e0-932a-25050c0c7f6d",
   "metadata": {},
   "outputs": [],
   "source": [
    "import pandas as pd\n",
    "data = {'Name': ['Alice', 'Bob', 'Charlie'], 'Age': [25, 30, 35]}\n",
    "df = pd.DataFrame(data, index=[100,101,102])\n"
   ]
  },
  {
   "cell_type": "markdown",
   "id": "998fefac-9940-45a8-86b7-12e5e37a5162",
   "metadata": {},
   "source": [
    "8. Group df by 'Region', then compute the sum of 'Sales' and mean of 'Profit' for each group. Reset the index.\n",
    "\n",
    "df = pd.DataFrame({\n",
    "    'Region': ['North', 'South', 'North', 'South'],\n",
    "    'Sales': [100, 200, 150, 250],\n",
    "    'Profit': [20, 30, 25, 40]\n",
    "})"
   ]
  },
  {
   "cell_type": "code",
   "execution_count": 9,
   "id": "cd9020e6-2508-4838-89d2-b75d1a619bb3",
   "metadata": {},
   "outputs": [
    {
     "data": {
      "text/html": [
       "<div>\n",
       "<style scoped>\n",
       "    .dataframe tbody tr th:only-of-type {\n",
       "        vertical-align: middle;\n",
       "    }\n",
       "\n",
       "    .dataframe tbody tr th {\n",
       "        vertical-align: top;\n",
       "    }\n",
       "\n",
       "    .dataframe thead th {\n",
       "        text-align: right;\n",
       "    }\n",
       "</style>\n",
       "<table border=\"1\" class=\"dataframe\">\n",
       "  <thead>\n",
       "    <tr style=\"text-align: right;\">\n",
       "      <th></th>\n",
       "      <th>Region</th>\n",
       "      <th>Sales</th>\n",
       "      <th>Profit</th>\n",
       "    </tr>\n",
       "  </thead>\n",
       "  <tbody>\n",
       "    <tr>\n",
       "      <th>0</th>\n",
       "      <td>North</td>\n",
       "      <td>250</td>\n",
       "      <td>22.5</td>\n",
       "    </tr>\n",
       "    <tr>\n",
       "      <th>1</th>\n",
       "      <td>South</td>\n",
       "      <td>450</td>\n",
       "      <td>35.0</td>\n",
       "    </tr>\n",
       "  </tbody>\n",
       "</table>\n",
       "</div>"
      ],
      "text/plain": [
       "  Region  Sales  Profit\n",
       "0  North    250    22.5\n",
       "1  South    450    35.0"
      ]
     },
     "execution_count": 9,
     "metadata": {},
     "output_type": "execute_result"
    }
   ],
   "source": [
    "import pandas as pd\n",
    "df = pd.DataFrame({\n",
    "        'Region': ['North', 'South', 'North', 'South'],\n",
    "        'Sales': [100, 200, 150, 250],\n",
    "        'Profit': [20, 30, 25, 40]})\n",
    "df.groupby('Region').agg({'Sales':'sum', 'Profit':'mean'}).reset_index()"
   ]
  },
  {
   "cell_type": "markdown",
   "id": "699670de-a526-465c-a125-614acd3894fd",
   "metadata": {},
   "source": [
    "9. Merge orders and customers on 'cust_id', keeping all orders (even if no customer match exists).\n",
    "\n",
    "orders = pd.DataFrame({'order_id': [1, 2], 'cust_id': [101, 102]})\n",
    "customers = pd.DataFrame({'cust_id': [101, 103], 'name': ['Alice', 'Bob']})"
   ]
  },
  {
   "cell_type": "code",
   "execution_count": 11,
   "id": "5961303c-0feb-4379-9d05-52c50b8d6976",
   "metadata": {},
   "outputs": [
    {
     "name": "stdout",
     "output_type": "stream",
     "text": [
      "   order_id  cust_id   name\n",
      "0       1.0      101  Alice\n",
      "1       2.0      102    NaN\n",
      "2       NaN      103    Bob\n"
     ]
    }
   ],
   "source": [
    "import pandas as pd\n",
    "orders = pd.DataFrame({'order_id': [1, 2], 'cust_id': [101, 102]})\n",
    "customers = pd.DataFrame({'cust_id': [101, 103], 'name': ['Alice', 'Bob']})\n",
    "merged = pd.merge(orders, customers, on='cust_id', how='outer')\n",
    "print(merged)"
   ]
  }
 ],
 "metadata": {
  "kernelspec": {
   "display_name": "Python [conda env:base] *",
   "language": "python",
   "name": "conda-base-py"
  },
  "language_info": {
   "codemirror_mode": {
    "name": "ipython",
    "version": 3
   },
   "file_extension": ".py",
   "mimetype": "text/x-python",
   "name": "python",
   "nbconvert_exporter": "python",
   "pygments_lexer": "ipython3",
   "version": "3.13.5"
  }
 },
 "nbformat": 4,
 "nbformat_minor": 5
}
